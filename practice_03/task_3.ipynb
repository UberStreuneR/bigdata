{
 "cells": [
  {
   "cell_type": "markdown",
   "metadata": {},
   "source": [
    "# Практическая работа №3"
   ]
  },
  {
   "cell_type": "markdown",
   "metadata": {},
   "source": [
    "## 1-8. Датасет insurance"
   ]
  },
  {
   "cell_type": "markdown",
   "metadata": {},
   "source": [
    "### 1. Загрузка датасета"
   ]
  },
  {
   "cell_type": "code",
   "execution_count": 2,
   "metadata": {},
   "outputs": [],
   "source": [
    "# Загрузка необходимых библиотек\n",
    "import pandas as pd\n",
    "import numpy as np\n",
    "import matplotlib.pyplot as plt\n",
    "import seaborn as sns\n",
    "import scipy.stats as sts"
   ]
  },
  {
   "cell_type": "code",
   "execution_count": 3,
   "metadata": {},
   "outputs": [
    {
     "data": {
      "text/html": [
       "<div>\n",
       "<style scoped>\n",
       "    .dataframe tbody tr th:only-of-type {\n",
       "        vertical-align: middle;\n",
       "    }\n",
       "\n",
       "    .dataframe tbody tr th {\n",
       "        vertical-align: top;\n",
       "    }\n",
       "\n",
       "    .dataframe thead th {\n",
       "        text-align: right;\n",
       "    }\n",
       "</style>\n",
       "<table border=\"1\" class=\"dataframe\">\n",
       "  <thead>\n",
       "    <tr style=\"text-align: right;\">\n",
       "      <th></th>\n",
       "      <th>age</th>\n",
       "      <th>sex</th>\n",
       "      <th>bmi</th>\n",
       "      <th>children</th>\n",
       "      <th>smoker</th>\n",
       "      <th>region</th>\n",
       "      <th>charges</th>\n",
       "    </tr>\n",
       "  </thead>\n",
       "  <tbody>\n",
       "    <tr>\n",
       "      <th>0</th>\n",
       "      <td>19</td>\n",
       "      <td>female</td>\n",
       "      <td>27.900</td>\n",
       "      <td>0</td>\n",
       "      <td>yes</td>\n",
       "      <td>southwest</td>\n",
       "      <td>16884.92400</td>\n",
       "    </tr>\n",
       "    <tr>\n",
       "      <th>1</th>\n",
       "      <td>18</td>\n",
       "      <td>male</td>\n",
       "      <td>33.770</td>\n",
       "      <td>1</td>\n",
       "      <td>no</td>\n",
       "      <td>southeast</td>\n",
       "      <td>1725.55230</td>\n",
       "    </tr>\n",
       "    <tr>\n",
       "      <th>2</th>\n",
       "      <td>28</td>\n",
       "      <td>male</td>\n",
       "      <td>33.000</td>\n",
       "      <td>3</td>\n",
       "      <td>no</td>\n",
       "      <td>southeast</td>\n",
       "      <td>4449.46200</td>\n",
       "    </tr>\n",
       "    <tr>\n",
       "      <th>3</th>\n",
       "      <td>33</td>\n",
       "      <td>male</td>\n",
       "      <td>22.705</td>\n",
       "      <td>0</td>\n",
       "      <td>no</td>\n",
       "      <td>northwest</td>\n",
       "      <td>21984.47061</td>\n",
       "    </tr>\n",
       "    <tr>\n",
       "      <th>4</th>\n",
       "      <td>32</td>\n",
       "      <td>male</td>\n",
       "      <td>28.880</td>\n",
       "      <td>0</td>\n",
       "      <td>no</td>\n",
       "      <td>northwest</td>\n",
       "      <td>3866.85520</td>\n",
       "    </tr>\n",
       "    <tr>\n",
       "      <th>...</th>\n",
       "      <td>...</td>\n",
       "      <td>...</td>\n",
       "      <td>...</td>\n",
       "      <td>...</td>\n",
       "      <td>...</td>\n",
       "      <td>...</td>\n",
       "      <td>...</td>\n",
       "    </tr>\n",
       "    <tr>\n",
       "      <th>1333</th>\n",
       "      <td>50</td>\n",
       "      <td>male</td>\n",
       "      <td>30.970</td>\n",
       "      <td>3</td>\n",
       "      <td>no</td>\n",
       "      <td>northwest</td>\n",
       "      <td>10600.54830</td>\n",
       "    </tr>\n",
       "    <tr>\n",
       "      <th>1334</th>\n",
       "      <td>18</td>\n",
       "      <td>female</td>\n",
       "      <td>31.920</td>\n",
       "      <td>0</td>\n",
       "      <td>no</td>\n",
       "      <td>northeast</td>\n",
       "      <td>2205.98080</td>\n",
       "    </tr>\n",
       "    <tr>\n",
       "      <th>1335</th>\n",
       "      <td>18</td>\n",
       "      <td>female</td>\n",
       "      <td>36.850</td>\n",
       "      <td>0</td>\n",
       "      <td>no</td>\n",
       "      <td>southeast</td>\n",
       "      <td>1629.83350</td>\n",
       "    </tr>\n",
       "    <tr>\n",
       "      <th>1336</th>\n",
       "      <td>21</td>\n",
       "      <td>female</td>\n",
       "      <td>25.800</td>\n",
       "      <td>0</td>\n",
       "      <td>no</td>\n",
       "      <td>southwest</td>\n",
       "      <td>2007.94500</td>\n",
       "    </tr>\n",
       "    <tr>\n",
       "      <th>1337</th>\n",
       "      <td>61</td>\n",
       "      <td>female</td>\n",
       "      <td>29.070</td>\n",
       "      <td>0</td>\n",
       "      <td>yes</td>\n",
       "      <td>northwest</td>\n",
       "      <td>29141.36030</td>\n",
       "    </tr>\n",
       "  </tbody>\n",
       "</table>\n",
       "<p>1338 rows × 7 columns</p>\n",
       "</div>"
      ],
      "text/plain": [
       "      age     sex     bmi  children smoker     region      charges\n",
       "0      19  female  27.900         0    yes  southwest  16884.92400\n",
       "1      18    male  33.770         1     no  southeast   1725.55230\n",
       "2      28    male  33.000         3     no  southeast   4449.46200\n",
       "3      33    male  22.705         0     no  northwest  21984.47061\n",
       "4      32    male  28.880         0     no  northwest   3866.85520\n",
       "...   ...     ...     ...       ...    ...        ...          ...\n",
       "1333   50    male  30.970         3     no  northwest  10600.54830\n",
       "1334   18  female  31.920         0     no  northeast   2205.98080\n",
       "1335   18  female  36.850         0     no  southeast   1629.83350\n",
       "1336   21  female  25.800         0     no  southwest   2007.94500\n",
       "1337   61  female  29.070         0    yes  northwest  29141.36030\n",
       "\n",
       "[1338 rows x 7 columns]"
      ]
     },
     "execution_count": 3,
     "metadata": {},
     "output_type": "execute_result"
    }
   ],
   "source": [
    "# Загрузка датасета\n",
    "data = pd.read_csv('../data/insurance.csv')\n",
    "data"
   ]
  },
  {
   "cell_type": "markdown",
   "metadata": {},
   "source": [
    "Объяснение столбцов по данным https://www.kaggle.com/datasets/teertha/ushealthinsurancedataset\n",
    "\n",
    "* `age` - Возраст основного получателя\n",
    "* `sex` - Пол страхового подрядчика, женщина / мужчина\n",
    "* `bmi` - Индекс массы тела, позволяющий получить представление о теле, относительно высоком или низком весе по отношению к росту, объективный индекс массы тела (кг / м2) с использованием отношения роста к весу, в идеале от 18,5 до 24,9.\n",
    "* `children` - Количество детей, охваченных медицинским страхованием / Количество иждивенцев\n",
    "* `smoker` - Курильщик / некурящий\n",
    "* `region` - Район проживания получателя в США, северо-восток, юго-восток, юго-запад, северо-запад.\n",
    "* `charges` - Индивидуальные медицинские расходы, оплачиваемые медицинским страхованием."
   ]
  },
  {
   "cell_type": "markdown",
   "metadata": {},
   "source": [
    "### 2. Статистика по данным"
   ]
  },
  {
   "cell_type": "code",
   "execution_count": 4,
   "metadata": {},
   "outputs": [
    {
     "data": {
      "text/html": [
       "<div>\n",
       "<style scoped>\n",
       "    .dataframe tbody tr th:only-of-type {\n",
       "        vertical-align: middle;\n",
       "    }\n",
       "\n",
       "    .dataframe tbody tr th {\n",
       "        vertical-align: top;\n",
       "    }\n",
       "\n",
       "    .dataframe thead th {\n",
       "        text-align: right;\n",
       "    }\n",
       "</style>\n",
       "<table border=\"1\" class=\"dataframe\">\n",
       "  <thead>\n",
       "    <tr style=\"text-align: right;\">\n",
       "      <th></th>\n",
       "      <th>age</th>\n",
       "      <th>bmi</th>\n",
       "      <th>children</th>\n",
       "      <th>charges</th>\n",
       "    </tr>\n",
       "  </thead>\n",
       "  <tbody>\n",
       "    <tr>\n",
       "      <th>count</th>\n",
       "      <td>1338.000000</td>\n",
       "      <td>1338.000000</td>\n",
       "      <td>1338.000000</td>\n",
       "      <td>1338.000000</td>\n",
       "    </tr>\n",
       "    <tr>\n",
       "      <th>mean</th>\n",
       "      <td>39.207025</td>\n",
       "      <td>30.663397</td>\n",
       "      <td>1.094918</td>\n",
       "      <td>13270.422265</td>\n",
       "    </tr>\n",
       "    <tr>\n",
       "      <th>std</th>\n",
       "      <td>14.049960</td>\n",
       "      <td>6.098187</td>\n",
       "      <td>1.205493</td>\n",
       "      <td>12110.011237</td>\n",
       "    </tr>\n",
       "    <tr>\n",
       "      <th>min</th>\n",
       "      <td>18.000000</td>\n",
       "      <td>15.960000</td>\n",
       "      <td>0.000000</td>\n",
       "      <td>1121.873900</td>\n",
       "    </tr>\n",
       "    <tr>\n",
       "      <th>25%</th>\n",
       "      <td>27.000000</td>\n",
       "      <td>26.296250</td>\n",
       "      <td>0.000000</td>\n",
       "      <td>4740.287150</td>\n",
       "    </tr>\n",
       "    <tr>\n",
       "      <th>50%</th>\n",
       "      <td>39.000000</td>\n",
       "      <td>30.400000</td>\n",
       "      <td>1.000000</td>\n",
       "      <td>9382.033000</td>\n",
       "    </tr>\n",
       "    <tr>\n",
       "      <th>75%</th>\n",
       "      <td>51.000000</td>\n",
       "      <td>34.693750</td>\n",
       "      <td>2.000000</td>\n",
       "      <td>16639.912515</td>\n",
       "    </tr>\n",
       "    <tr>\n",
       "      <th>max</th>\n",
       "      <td>64.000000</td>\n",
       "      <td>53.130000</td>\n",
       "      <td>5.000000</td>\n",
       "      <td>63770.428010</td>\n",
       "    </tr>\n",
       "  </tbody>\n",
       "</table>\n",
       "</div>"
      ],
      "text/plain": [
       "               age          bmi     children       charges\n",
       "count  1338.000000  1338.000000  1338.000000   1338.000000\n",
       "mean     39.207025    30.663397     1.094918  13270.422265\n",
       "std      14.049960     6.098187     1.205493  12110.011237\n",
       "min      18.000000    15.960000     0.000000   1121.873900\n",
       "25%      27.000000    26.296250     0.000000   4740.287150\n",
       "50%      39.000000    30.400000     1.000000   9382.033000\n",
       "75%      51.000000    34.693750     2.000000  16639.912515\n",
       "max      64.000000    53.130000     5.000000  63770.428010"
      ]
     },
     "execution_count": 4,
     "metadata": {},
     "output_type": "execute_result"
    }
   ],
   "source": [
    "# С помощью метода describe() посмотреть статистику по данным.\n",
    "data.describe()"
   ]
  },
  {
   "cell_type": "markdown",
   "metadata": {},
   "source": [
    "Выводы по данным:\n",
    "* Средний возраст выборки - 39 лет, стандартное отклонение - 14 лет\n",
    "* Средний ИМТ - 30,6 (выше нормы на 5,6 единиц)\n",
    "* У застрахованных лиц в среднем 1 ребёнок/иждивенец охваченный страхованием\n",
    "* В среднем, страховка покрывает $13k медицинских расходов со стандартным отклонением $12k\n",
    "* Минимальный размер покрываемых страховкой медицинских расходов $1,1k, максимальная - $63k"
   ]
  },
  {
   "cell_type": "markdown",
   "metadata": {},
   "source": [
    "### 3. Гистограммы числовых показателей"
   ]
  },
  {
   "cell_type": "code",
   "execution_count": 5,
   "metadata": {},
   "outputs": [
    {
     "data": {
      "image/png": "[encoded data removed]",
      "text/plain": [
       "<Figure size 640x480 with 1 Axes>"
      ]
     },
     "metadata": {},
     "output_type": "display_data"
    },
    {
     "data": {
      "image/png": "[encoded data removed]",
      "text/plain": [
       "<Figure size 640x480 with 1 Axes>"
      ]
     },
     "metadata": {},
     "output_type": "display_data"
    },
    {
     "data": {
      "image/png": "[encoded data removed]",
      "text/plain": [
       "<Figure size 640x480 with 1 Axes>"
      ]
     },
     "metadata": {},
     "output_type": "display_data"
    },
    {
     "data": {
      "image/png": "[encoded data removed]",
      "text/plain": [
       "<Figure size 640x480 with 1 Axes>"
      ]
     },
     "metadata": {},
     "output_type": "display_data"
    }
   ],
   "source": [
    "# Построить гистограммы для числовых показателей.\n",
    "numeric_columns = ['age', 'bmi', 'children', 'charges']\n",
    "for col in numeric_columns:\n",
    "    data.hist(column=col)"
   ]
  },
  {
   "cell_type": "markdown",
   "metadata": {},
   "source": [
    "Выводы по распределениям:\n",
    "* Распределение по возрастам почти равномерное, но есть группа людей возраста 20 лет, которых в ~2 разра больше людей других возрастов\n",
    "* Распределение ИМТ визуально похоже на нормальное\n",
    "* Больше всего застрахованных лиц не имеют покрытых страховкой детей/иждивенцев\n",
    "* Количество дорогих страховок значительно меньше, чем дешёвых"
   ]
  },
  {
   "cell_type": "markdown",
   "metadata": {},
   "source": [
    "### 4. Меры центральной тенденции и меры разброса"
   ]
  },
  {
   "cell_type": "code",
   "execution_count": 29,
   "metadata": {},
   "outputs": [
    {
     "name": "stdout",
     "output_type": "stream",
     "text": [
      "bmi\n",
      " mean: 30.66339686098655\n",
      " median: 30.4\n",
      " mode: ModeResult(mode=32.3, count=13)\n",
      "\n",
      "charges\n",
      " mean: 13270.422265141257\n",
      " median: 9382.033\n",
      " mode: ModeResult(mode=1639.5631, count=2)\n",
      "\n"
     ]
    }
   ],
   "source": [
    "# Найти меры центральной тенденции и меры разброса для индекса массы тела (bmi) и расходов (charges)\n",
    "# Меры центральной тенденции\n",
    "central_trend_measures: dict[str, dict[str, float]] = {}\n",
    "for column in ('bmi', 'charges'):\n",
    "    mean = np.mean(data[column])\n",
    "    median = np.median(data[column])\n",
    "    mode = sts.mode(data[column])\n",
    "    central_trend_measures[column] = {'mean': mean, 'median': median, 'mode': mode.mode}\n",
    "    print(column)\n",
    "    print(f' mean: {mean}\\n median: {median}\\n mode: {mode}')\n",
    "    print()"
   ]
  },
  {
   "cell_type": "code",
   "execution_count": 9,
   "metadata": {},
   "outputs": [
    {
     "name": "stdout",
     "output_type": "stream",
     "text": [
      "bmi\n",
      " std: 6.098186911679014\n",
      " amplitude: 37.17\n",
      " iqr: 8.384999999999998\n",
      "\n",
      "charges\n",
      " std: 12110.011236694001\n",
      " amplitude: 62648.554110000005\n",
      " iqr: 11879.80148\n",
      "\n"
     ]
    }
   ],
   "source": [
    "# Меры разброса\n",
    "scatter_measures: dict[str, dict[str, float]] = {}\n",
    "for column in ('bmi', 'charges'):\n",
    "    std = data[column].std()\n",
    "    amplitude = data[column].max() - data[column].min()\n",
    "    iqr = sts.iqr(data[column], interpolation='midpoint')\n",
    "    scatter_trend_measures = {'std': std, 'amplitude': amplitude, 'iqr': iqr}\n",
    "    print(column)\n",
    "    print(f' std: {std}\\n amplitude: {amplitude}\\n iqr: {iqr}')\n",
    "    print()"
   ]
  },
  {
   "cell_type": "code",
   "execution_count": 35,
   "metadata": {},
   "outputs": [
    {
     "data": {
      "image/png": "[encoded data removed]",
      "text/plain": [
       "<Figure size 640x480 with 1 Axes>"
      ]
     },
     "metadata": {},
     "output_type": "display_data"
    },
    {
     "data": {
      "image/png": "[encoded data removed]",
      "text/plain": [
       "<Figure size 640x480 with 1 Axes>"
      ]
     },
     "metadata": {},
     "output_type": "display_data"
    }
   ],
   "source": [
    "# Отобразить результаты в виде текста и на гистограммах (3 вертикальные линии). \n",
    "# Добавить легенду на графики.\n",
    "for column in ('bmi', 'charges'):\n",
    "    plt.title(f'Меры центральной тенденции {column}')\n",
    "    plt.hist(x=data[column], bins=20)\n",
    "    plt.axvline(\n",
    "        x=central_trend_measures[column]['mean'],\n",
    "        color='red',\n",
    "        linestyle='--',\n",
    "        label='mean'\n",
    "    )\n",
    "    plt.axvline(\n",
    "        x=central_trend_measures[column]['median'], \n",
    "        color='orange', \n",
    "        linestyle='--', \n",
    "        label='median'\n",
    "    )\n",
    "    plt.axvline(\n",
    "        x=central_trend_measures[column]['mode'], \n",
    "        color='gold', \n",
    "        linestyle='-.', \n",
    "        label='mode'\n",
    "    )\n",
    "    plt.legend()\n",
    "    plt.show()"
   ]
  },
  {
   "cell_type": "markdown",
   "metadata": {},
   "source": [
    "Выводы:\n",
    "* Для распределения `bmi`, близкого к нормальному, все три метрики центральной тенденции находятся рядом друг с другом в центре графика\n",
    "* Для распределения `charges`, имеющего явный перекос влево, метрики центральной тенденции расходятся "
   ]
  },
  {
   "cell_type": "markdown",
   "metadata": {},
   "source": [
    "### 5. Box-plot для числовых показателей"
   ]
  },
  {
   "cell_type": "code",
   "execution_count": 37,
   "metadata": {},
   "outputs": [
    {
     "data": {
      "image/png": "[encoded data removed]",
      "text/plain": [
       "<Figure size 640x480 with 1 Axes>"
      ]
     },
     "metadata": {},
     "output_type": "display_data"
    },
    {
     "data": {
      "image/png": "[encoded data removed]",
      "text/plain": [
       "<Figure size 640x480 with 1 Axes>"
      ]
     },
     "metadata": {},
     "output_type": "display_data"
    },
    {
     "data": {
      "image/png": "[encoded data removed]",
      "text/plain": [
       "<Figure size 640x480 with 1 Axes>"
      ]
     },
     "metadata": {},
     "output_type": "display_data"
    },
    {
     "data": {
      "image/png": "[encoded data removed]",
      "text/plain": [
       "<Figure size 640x480 with 1 Axes>"
      ]
     },
     "metadata": {},
     "output_type": "display_data"
    }
   ],
   "source": [
    "# Построить box- для числовых показателей.\n",
    "# Названия графиков должны соответствовать названиям признаков.\n",
    "for column in numeric_columns:\n",
    "    plt.boxplot(data[column])\n",
    "    plt.title(f'Диаграмма box-plot для {column}')\n",
    "    plt.show()"
   ]
  },
  {
   "cell_type": "markdown",
   "metadata": {},
   "source": [
    "Выводы:\n",
    "* Переменная возраста распределена равномерно и не имеет выбросов\n",
    "* У переменной ИМТ есть выбросы для больших значений. Распределение перекошено в сторону небольших значений ИМТ\n",
    "* Переменная количество детей перекошена к нулевому значению и не имеет выбросов\n",
    "* Переменная расходов перекошена к малым значениям и имеет выбросы для больших значений "
   ]
  },
  {
   "cell_type": "markdown",
   "metadata": {},
   "source": [
    "### 6. Проверка центральной предельной теоремы"
   ]
  },
  {
   "cell_type": "code",
   "execution_count": null,
   "metadata": {},
   "outputs": [],
   "source": [
    "# Используя признак charges или imb, проверить, выполняется ли центральная предельная теорема. "
   ]
  },
  {
   "cell_type": "code",
   "execution_count": 55,
   "metadata": {},
   "outputs": [],
   "source": [
    "# Использовать различные длины выборок n. Количество выборок = 300.\n",
    "n_samples = 300\n",
    "samples_mean_dict: dict[int, pd.Series] = {}\n",
    "samples_means_mean: dict[int, float] = {}\n",
    "for i in range(10, 51, 20):\n",
    "    samples_means = pd.Series(\n",
    "        [\n",
    "            data['bmi'].sample(n=i).mean() \n",
    "            for _ in range(n_samples)\n",
    "        ], \n",
    "        dtype='float'\n",
    "    )\n",
    "    samples_mean_dict[i] = samples_means\n",
    "    samples_means_mean[i] = samples_means.mean()\n"
   ]
  },
  {
   "cell_type": "code",
   "execution_count": 56,
   "metadata": {},
   "outputs": [
    {
     "name": "stdout",
     "output_type": "stream",
     "text": [
      "smaple len: 10\n",
      " std: 1.8593795427805815\n",
      " mean: 30.520551666666663\n",
      "smaple len: 30\n",
      " std: 1.1455777652647787\n",
      " mean: 30.627126666666662\n",
      "smaple len: 50\n",
      " std: 0.8642658527318594\n",
      " mean: 30.649057\n"
     ]
    }
   ],
   "source": [
    "# Найти стандартное отклонение и среднее для полученных распределений.\n",
    "for i in samples_mean_dict.keys():\n",
    "    print(f'smaple len: {i}')\n",
    "    print(f' std: {samples_mean_dict[i].std()}')\n",
    "    print(f' mean: {samples_mean_dict[i].mean()}')"
   ]
  },
  {
   "cell_type": "code",
   "execution_count": 51,
   "metadata": {},
   "outputs": [
    {
     "name": "stdout",
     "output_type": "stream",
     "text": [
      "total values:\n",
      " std: 6.098186911679014\n",
      " mean: 30.66339686098655\n"
     ]
    }
   ],
   "source": [
    "print('total values:')\n",
    "print(f' std: {data[\"bmi\"].std()}')\n",
    "print(f' mean: {data[\"bmi\"].mean()}')\n",
    "real_mean = data['bmi'].mean()"
   ]
  },
  {
   "cell_type": "code",
   "execution_count": 57,
   "metadata": {},
   "outputs": [
    {
     "data": {
      "image/png": "[encoded data removed]",
      "text/plain": [
       "<Figure size 640x480 with 1 Axes>"
      ]
     },
     "metadata": {},
     "output_type": "display_data"
    },
    {
     "data": {
      "image/png": "[encoded data removed]",
      "text/plain": [
       "<Figure size 640x480 with 1 Axes>"
      ]
     },
     "metadata": {},
     "output_type": "display_data"
    },
    {
     "data": {
      "image/png": "[encoded data removed]",
      "text/plain": [
       "<Figure size 640x480 with 1 Axes>"
      ]
     },
     "metadata": {},
     "output_type": "display_data"
    }
   ],
   "source": [
    "# Вывести результат в виде гистограмм.\n",
    "for i, sample_means in samples_mean_dict.items():\n",
    "    plt.hist(x=sample_means, bins=30)\n",
    "    plt.title(f'Среднее средних(n={i})')\n",
    "    plt.axvline(\n",
    "        x=sample_means.mean(),\n",
    "        color='red',\n",
    "        linestyle='--',\n",
    "        label='mean of means'\n",
    "    )\n",
    "    plt.axvline(\n",
    "        x=real_mean, \n",
    "        color='orange', \n",
    "        linestyle='--', \n",
    "        label='global mean'\n",
    "    )\n",
    "    plt.legend()\n",
    "    plt.show()"
   ]
  },
  {
   "cell_type": "markdown",
   "metadata": {},
   "source": [
    "Выводы:\n",
    "* Чем больше n, тем ближе среднее средних по выборкам к среднему генеральной совокупности\n",
    "* Центральная предельная теорема выполняется на данном распределении"
   ]
  },
  {
   "cell_type": "markdown",
   "metadata": {},
   "source": [
    "### 7. Доверительные интервалы для средних значений"
   ]
  },
  {
   "cell_type": "code",
   "execution_count": 61,
   "metadata": {},
   "outputs": [],
   "source": [
    "# Построить 95% и 99% доверительный интервал для среднего значения расходов \n",
    "# и среднего значения индекса массы тела.\n",
    "\n",
    "# Далее рассчитаем доверительный интервал, нижняя граница = 𝑥̅−1,96 𝑆𝐸, верхняя граница 𝑥̅+1,96 𝑆𝐸.\n",
    "# Так же мы можем рассчитать 99% доверительный интервал, \n",
    "# где нижняя граница = 𝑥̅−2.58 𝑆𝐸, верхняя граница 𝑥̅+2.58 𝑆𝐸, такой интервал будет шире.\n",
    "\n",
    "confidence_intervals: dict[str, dict[int, tuple[float, float]]] = {}\n",
    "intervals_multipliers = {95: 1.96, 99: 2.58}\n",
    "for column in ('bmi', 'charges'):\n",
    "    error = data[column].sem()\n",
    "    mean = data[column].mean()\n",
    "    intervals = {}\n",
    "    for percent, multiplier in intervals_multipliers.items():\n",
    "        interval = (mean - error * multiplier, mean + error * multiplier)\n",
    "        intervals[percent] = interval\n",
    "    confidence_intervals[column] = intervals\n"
   ]
  },
  {
   "cell_type": "code",
   "execution_count": 69,
   "metadata": {},
   "outputs": [
    {
     "name": "stdout",
     "output_type": "stream",
     "text": [
      "intervals for bmi\n",
      " 95%: (30.3366, 30.9902)\n",
      " 99%: (30.2333, 31.0935)\n",
      "intervals for charges\n",
      " 95%: (12621.5301, 13919.3145)\n",
      " 99%: (12416.2682, 14124.5763)\n"
     ]
    }
   ],
   "source": [
    "for column, intervals in confidence_intervals.items():\n",
    "    print(f'intervals for {column}')\n",
    "    for percent, interval in intervals.items():\n",
    "        print(f' {percent}%: ({interval[0]:.4f}, {interval[1]:.4f})')"
   ]
  },
  {
   "cell_type": "code",
   "execution_count": 71,
   "metadata": {},
   "outputs": [
    {
     "data": {
      "image/png": "[encoded data removed]",
      "text/plain": [
       "<Figure size 640x480 with 1 Axes>"
      ]
     },
     "metadata": {},
     "output_type": "display_data"
    },
    {
     "data": {
      "image/png": "[encoded data removed]",
      "text/plain": [
       "<Figure size 640x480 with 1 Axes>"
      ]
     },
     "metadata": {},
     "output_type": "display_data"
    }
   ],
   "source": [
    "interval_colors = {95: 'orange', 99: 'gold'}\n",
    "for column, intervals in confidence_intervals.items():\n",
    "    plt.hist(x=data[column])\n",
    "    plt.axvline(\n",
    "        x=data[column].mean(), \n",
    "        color='red', \n",
    "        linestyle='--', \n",
    "        label='mean'\n",
    "    )\n",
    "    for percent, interval in intervals.items():\n",
    "        for border in interval:\n",
    "            plt.axvline(\n",
    "                x=border, \n",
    "                color=interval_colors[percent], \n",
    "                linestyle='--', \n",
    "                label=f'{percent}% interval'\n",
    "            )\n",
    "    plt.legend()\n",
    "    plt.show()"
   ]
  },
  {
   "cell_type": "markdown",
   "metadata": {},
   "source": [
    "### 8. Проверка признаков на нормальность"
   ]
  },
  {
   "cell_type": "code",
   "execution_count": null,
   "metadata": {},
   "outputs": [],
   "source": [
    "import statsmodels.api as sm"
   ]
  },
  {
   "cell_type": "code",
   "execution_count": 87,
   "metadata": {},
   "outputs": [
    {
     "data": {
      "image/png": "[encoded data removed]",
      "text/plain": [
       "<Figure size 640x480 with 1 Axes>"
      ]
     },
     "metadata": {},
     "output_type": "display_data"
    },
    {
     "name": "stdout",
     "output_type": "stream",
     "text": [
      "KS-test for bmi: KstestResult(statistic=0.02613962682509635, pvalue=0.31453976932347394, statistic_location=-0.27697218531780776, statistic_sign=1)\n",
      "p-value = 0.31453976932347394\n",
      "H0: bmi has normal distribution\n"
     ]
    },
    {
     "data": {
      "image/png": "[encoded data removed]",
      "text/plain": [
       "<Figure size 640x480 with 1 Axes>"
      ]
     },
     "metadata": {},
     "output_type": "display_data"
    },
    {
     "name": "stdout",
     "output_type": "stream",
     "text": [
      "KS-test for charges: KstestResult(statistic=0.18846204110424236, pvalue=4.393057307685022e-42, statistic_location=0.016557596433631947, statistic_sign=1)\n",
      "p-value = 4.393057307685022e-42\n",
      "H1: charges has not normal distribution\n"
     ]
    }
   ],
   "source": [
    "# Проверить распределения следующих признаков на нормальность: индекс массы тела, расходы.\n",
    "# Сформулировать нулевую и альтернативную гипотезы. \n",
    "# Для каждого признака использовать KS-тест и q-plot. \n",
    "# Сделать выводы на основе полученных p-значений.\n",
    "\n",
    "for column in ('bmi', 'charges'):\n",
    "    stadartized = sts.zscore(data[column])\n",
    "    test_ks = sts.kstest(stadartized, 'norm')\n",
    "\n",
    "    fig = sm.qqplot(stadartized, line='45')\n",
    "    plt.show()\n",
    "\n",
    "    print(f'KS-test for {column}: {test_ks}')\n",
    "    print(f'p-value = {test_ks.pvalue}')\n",
    "    if test_ks.pvalue < 0.05:\n",
    "        print(f'H1: {column} has not normal distribution')\n",
    "    else:\n",
    "        print(f'H0: {column} has normal distribution')"
   ]
  },
  {
   "cell_type": "markdown",
   "metadata": {},
   "source": [
    "Выводы:\n",
    "* Для переменной `bmi` p-значение = `0.31`, следовательно гипотезу о нормальном распределении мы отвергнуть не можем\n",
    "* Для переменнной `charges` р-значение = `4.4e-42`, следовательно гипотезу о нормальном распределении мы отвергаем"
   ]
  },
  {
   "cell_type": "markdown",
   "metadata": {},
   "source": [
    "## 9-12. Датасет ECDCCases"
   ]
  },
  {
   "cell_type": "markdown",
   "metadata": {},
   "source": [
    "### 9. Загрузка датасета"
   ]
  },
  {
   "cell_type": "code",
   "execution_count": 3,
   "metadata": {},
   "outputs": [
    {
     "data": {
      "text/html": [
       "<div>\n",
       "<style scoped>\n",
       "    .dataframe tbody tr th:only-of-type {\n",
       "        vertical-align: middle;\n",
       "    }\n",
       "\n",
       "    .dataframe tbody tr th {\n",
       "        vertical-align: top;\n",
       "    }\n",
       "\n",
       "    .dataframe thead th {\n",
       "        text-align: right;\n",
       "    }\n",
       "</style>\n",
       "<table border=\"1\" class=\"dataframe\">\n",
       "  <thead>\n",
       "    <tr style=\"text-align: right;\">\n",
       "      <th></th>\n",
       "      <th>dateRep</th>\n",
       "      <th>day</th>\n",
       "      <th>month</th>\n",
       "      <th>year</th>\n",
       "      <th>cases</th>\n",
       "      <th>deaths</th>\n",
       "      <th>countriesAndTerritories</th>\n",
       "      <th>geoId</th>\n",
       "      <th>countryterritoryCode</th>\n",
       "      <th>popData2019</th>\n",
       "      <th>continentExp</th>\n",
       "      <th>Cumulative_number_for_14_days_of_COVID-19_cases_per_100000</th>\n",
       "    </tr>\n",
       "  </thead>\n",
       "  <tbody>\n",
       "    <tr>\n",
       "      <th>0</th>\n",
       "      <td>14/12/2020</td>\n",
       "      <td>14</td>\n",
       "      <td>12</td>\n",
       "      <td>2020</td>\n",
       "      <td>746</td>\n",
       "      <td>6</td>\n",
       "      <td>Afghanistan</td>\n",
       "      <td>AF</td>\n",
       "      <td>AFG</td>\n",
       "      <td>38041757.0</td>\n",
       "      <td>Asia</td>\n",
       "      <td>9.013779</td>\n",
       "    </tr>\n",
       "    <tr>\n",
       "      <th>1</th>\n",
       "      <td>13/12/2020</td>\n",
       "      <td>13</td>\n",
       "      <td>12</td>\n",
       "      <td>2020</td>\n",
       "      <td>298</td>\n",
       "      <td>9</td>\n",
       "      <td>Afghanistan</td>\n",
       "      <td>AF</td>\n",
       "      <td>AFG</td>\n",
       "      <td>38041757.0</td>\n",
       "      <td>Asia</td>\n",
       "      <td>7.052776</td>\n",
       "    </tr>\n",
       "    <tr>\n",
       "      <th>2</th>\n",
       "      <td>12/12/2020</td>\n",
       "      <td>12</td>\n",
       "      <td>12</td>\n",
       "      <td>2020</td>\n",
       "      <td>113</td>\n",
       "      <td>11</td>\n",
       "      <td>Afghanistan</td>\n",
       "      <td>AF</td>\n",
       "      <td>AFG</td>\n",
       "      <td>38041757.0</td>\n",
       "      <td>Asia</td>\n",
       "      <td>6.868768</td>\n",
       "    </tr>\n",
       "    <tr>\n",
       "      <th>3</th>\n",
       "      <td>12/12/2020</td>\n",
       "      <td>12</td>\n",
       "      <td>12</td>\n",
       "      <td>2020</td>\n",
       "      <td>113</td>\n",
       "      <td>11</td>\n",
       "      <td>Afghanistan</td>\n",
       "      <td>AF</td>\n",
       "      <td>AFG</td>\n",
       "      <td>38041757.0</td>\n",
       "      <td>Asia</td>\n",
       "      <td>6.868768</td>\n",
       "    </tr>\n",
       "    <tr>\n",
       "      <th>4</th>\n",
       "      <td>11/12/2020</td>\n",
       "      <td>11</td>\n",
       "      <td>12</td>\n",
       "      <td>2020</td>\n",
       "      <td>63</td>\n",
       "      <td>10</td>\n",
       "      <td>Afghanistan</td>\n",
       "      <td>AF</td>\n",
       "      <td>AFG</td>\n",
       "      <td>38041757.0</td>\n",
       "      <td>Asia</td>\n",
       "      <td>7.134266</td>\n",
       "    </tr>\n",
       "    <tr>\n",
       "      <th>...</th>\n",
       "      <td>...</td>\n",
       "      <td>...</td>\n",
       "      <td>...</td>\n",
       "      <td>...</td>\n",
       "      <td>...</td>\n",
       "      <td>...</td>\n",
       "      <td>...</td>\n",
       "      <td>...</td>\n",
       "      <td>...</td>\n",
       "      <td>...</td>\n",
       "      <td>...</td>\n",
       "      <td>...</td>\n",
       "    </tr>\n",
       "    <tr>\n",
       "      <th>61899</th>\n",
       "      <td>25/03/2020</td>\n",
       "      <td>25</td>\n",
       "      <td>3</td>\n",
       "      <td>2020</td>\n",
       "      <td>0</td>\n",
       "      <td>0</td>\n",
       "      <td>Zimbabwe</td>\n",
       "      <td>ZW</td>\n",
       "      <td>ZWE</td>\n",
       "      <td>14645473.0</td>\n",
       "      <td>Africa</td>\n",
       "      <td>NaN</td>\n",
       "    </tr>\n",
       "    <tr>\n",
       "      <th>61900</th>\n",
       "      <td>24/03/2020</td>\n",
       "      <td>24</td>\n",
       "      <td>3</td>\n",
       "      <td>2020</td>\n",
       "      <td>0</td>\n",
       "      <td>1</td>\n",
       "      <td>Zimbabwe</td>\n",
       "      <td>ZW</td>\n",
       "      <td>ZWE</td>\n",
       "      <td>14645473.0</td>\n",
       "      <td>Africa</td>\n",
       "      <td>NaN</td>\n",
       "    </tr>\n",
       "    <tr>\n",
       "      <th>61901</th>\n",
       "      <td>23/03/2020</td>\n",
       "      <td>23</td>\n",
       "      <td>3</td>\n",
       "      <td>2020</td>\n",
       "      <td>0</td>\n",
       "      <td>0</td>\n",
       "      <td>Zimbabwe</td>\n",
       "      <td>ZW</td>\n",
       "      <td>ZWE</td>\n",
       "      <td>14645473.0</td>\n",
       "      <td>Africa</td>\n",
       "      <td>NaN</td>\n",
       "    </tr>\n",
       "    <tr>\n",
       "      <th>61902</th>\n",
       "      <td>22/03/2020</td>\n",
       "      <td>22</td>\n",
       "      <td>3</td>\n",
       "      <td>2020</td>\n",
       "      <td>1</td>\n",
       "      <td>0</td>\n",
       "      <td>Zimbabwe</td>\n",
       "      <td>ZW</td>\n",
       "      <td>ZWE</td>\n",
       "      <td>14645473.0</td>\n",
       "      <td>Africa</td>\n",
       "      <td>NaN</td>\n",
       "    </tr>\n",
       "    <tr>\n",
       "      <th>61903</th>\n",
       "      <td>21/03/2020</td>\n",
       "      <td>21</td>\n",
       "      <td>3</td>\n",
       "      <td>2020</td>\n",
       "      <td>1</td>\n",
       "      <td>0</td>\n",
       "      <td>Zimbabwe</td>\n",
       "      <td>ZW</td>\n",
       "      <td>ZWE</td>\n",
       "      <td>14645473.0</td>\n",
       "      <td>Africa</td>\n",
       "      <td>NaN</td>\n",
       "    </tr>\n",
       "  </tbody>\n",
       "</table>\n",
       "<p>61904 rows × 12 columns</p>\n",
       "</div>"
      ],
      "text/plain": [
       "          dateRep  day  month  year  cases  deaths countriesAndTerritories  \\\n",
       "0      14/12/2020   14     12  2020    746       6             Afghanistan   \n",
       "1      13/12/2020   13     12  2020    298       9             Afghanistan   \n",
       "2      12/12/2020   12     12  2020    113      11             Afghanistan   \n",
       "3      12/12/2020   12     12  2020    113      11             Afghanistan   \n",
       "4      11/12/2020   11     12  2020     63      10             Afghanistan   \n",
       "...           ...  ...    ...   ...    ...     ...                     ...   \n",
       "61899  25/03/2020   25      3  2020      0       0                Zimbabwe   \n",
       "61900  24/03/2020   24      3  2020      0       1                Zimbabwe   \n",
       "61901  23/03/2020   23      3  2020      0       0                Zimbabwe   \n",
       "61902  22/03/2020   22      3  2020      1       0                Zimbabwe   \n",
       "61903  21/03/2020   21      3  2020      1       0                Zimbabwe   \n",
       "\n",
       "      geoId countryterritoryCode  popData2019 continentExp  \\\n",
       "0        AF                  AFG   38041757.0         Asia   \n",
       "1        AF                  AFG   38041757.0         Asia   \n",
       "2        AF                  AFG   38041757.0         Asia   \n",
       "3        AF                  AFG   38041757.0         Asia   \n",
       "4        AF                  AFG   38041757.0         Asia   \n",
       "...     ...                  ...          ...          ...   \n",
       "61899    ZW                  ZWE   14645473.0       Africa   \n",
       "61900    ZW                  ZWE   14645473.0       Africa   \n",
       "61901    ZW                  ZWE   14645473.0       Africa   \n",
       "61902    ZW                  ZWE   14645473.0       Africa   \n",
       "61903    ZW                  ZWE   14645473.0       Africa   \n",
       "\n",
       "       Cumulative_number_for_14_days_of_COVID-19_cases_per_100000  \n",
       "0                                               9.013779           \n",
       "1                                               7.052776           \n",
       "2                                               6.868768           \n",
       "3                                               6.868768           \n",
       "4                                               7.134266           \n",
       "...                                                  ...           \n",
       "61899                                                NaN           \n",
       "61900                                                NaN           \n",
       "61901                                                NaN           \n",
       "61902                                                NaN           \n",
       "61903                                                NaN           \n",
       "\n",
       "[61904 rows x 12 columns]"
      ]
     },
     "execution_count": 3,
     "metadata": {},
     "output_type": "execute_result"
    }
   ],
   "source": [
    "# Загрузка датасета\n",
    "data = pd.read_csv('../data/ECDCCases.csv')\n",
    "data"
   ]
  },
  {
   "cell_type": "markdown",
   "metadata": {},
   "source": [
    "Объяснение столбцов по данным https://learn.microsoft.com/ru-ru/azure/open-datasets/dataset-ecdc-covid-cases?tabs=azure-storage\n",
    "\n",
    "* `date_rep` - Дата отчета.\n",
    "* `day` - День месяца\n",
    "* `month` - Номер месяца.\n",
    "* `year` - Год\n",
    "* `cases` - Число зарегистрированных случаев.\n",
    "* `deaths` - Число зарегистрированных летальных случаев.\n",
    "* `countries_and_territories` - Название страны или территории.\n",
    "* `geo_id` - Географический идентификатор.\n",
    "* `country_territory_code` - Название страны или территории.\n",
    "* `continent_exp` - Название континента."
   ]
  },
  {
   "cell_type": "markdown",
   "metadata": {},
   "source": [
    "### 10. Обработка пропущенных значений"
   ]
  },
  {
   "cell_type": "code",
   "execution_count": 6,
   "metadata": {},
   "outputs": [
    {
     "data": {
      "text/plain": [
       "dateRep                                                          0\n",
       "day                                                              0\n",
       "month                                                            0\n",
       "year                                                             0\n",
       "cases                                                            0\n",
       "deaths                                                           0\n",
       "countriesAndTerritories                                          0\n",
       "continentExp                                                     0\n",
       "countryterritoryCode                                           123\n",
       "popData2019                                                    123\n",
       "geoId                                                          275\n",
       "Cumulative_number_for_14_days_of_COVID-19_cases_per_100000    2879\n",
       "dtype: int64"
      ]
     },
     "execution_count": 6,
     "metadata": {},
     "output_type": "execute_result"
    }
   ],
   "source": [
    "data.isna().sum().sort_values()\n"
   ]
  },
  {
   "cell_type": "code",
   "execution_count": 7,
   "metadata": {},
   "outputs": [
    {
     "data": {
      "text/plain": [
       "dateRep                                                       0.000000\n",
       "day                                                           0.000000\n",
       "month                                                         0.000000\n",
       "year                                                          0.000000\n",
       "cases                                                         0.000000\n",
       "deaths                                                        0.000000\n",
       "countriesAndTerritories                                       0.000000\n",
       "continentExp                                                  0.000000\n",
       "countryterritoryCode                                          0.001987\n",
       "popData2019                                                   0.001987\n",
       "geoId                                                         0.004442\n",
       "Cumulative_number_for_14_days_of_COVID-19_cases_per_100000    0.046507\n",
       "dtype: float64"
      ]
     },
     "execution_count": 7,
     "metadata": {},
     "output_type": "execute_result"
    }
   ],
   "source": [
    "# Вывести количество пропущенных значений в процентах.\n",
    "data.isna().sum().apply(lambda x: x / len(data)).sort_values()"
   ]
  },
  {
   "cell_type": "code",
   "execution_count": 8,
   "metadata": {},
   "outputs": [
    {
     "data": {
      "text/html": [
       "<div>\n",
       "<style scoped>\n",
       "    .dataframe tbody tr th:only-of-type {\n",
       "        vertical-align: middle;\n",
       "    }\n",
       "\n",
       "    .dataframe tbody tr th {\n",
       "        vertical-align: top;\n",
       "    }\n",
       "\n",
       "    .dataframe thead th {\n",
       "        text-align: right;\n",
       "    }\n",
       "</style>\n",
       "<table border=\"1\" class=\"dataframe\">\n",
       "  <thead>\n",
       "    <tr style=\"text-align: right;\">\n",
       "      <th></th>\n",
       "      <th>dateRep</th>\n",
       "      <th>day</th>\n",
       "      <th>month</th>\n",
       "      <th>year</th>\n",
       "      <th>cases</th>\n",
       "      <th>deaths</th>\n",
       "      <th>countriesAndTerritories</th>\n",
       "      <th>countryterritoryCode</th>\n",
       "      <th>popData2019</th>\n",
       "      <th>continentExp</th>\n",
       "    </tr>\n",
       "  </thead>\n",
       "  <tbody>\n",
       "    <tr>\n",
       "      <th>0</th>\n",
       "      <td>14/12/2020</td>\n",
       "      <td>14</td>\n",
       "      <td>12</td>\n",
       "      <td>2020</td>\n",
       "      <td>746</td>\n",
       "      <td>6</td>\n",
       "      <td>Afghanistan</td>\n",
       "      <td>AFG</td>\n",
       "      <td>38041757.0</td>\n",
       "      <td>Asia</td>\n",
       "    </tr>\n",
       "    <tr>\n",
       "      <th>1</th>\n",
       "      <td>13/12/2020</td>\n",
       "      <td>13</td>\n",
       "      <td>12</td>\n",
       "      <td>2020</td>\n",
       "      <td>298</td>\n",
       "      <td>9</td>\n",
       "      <td>Afghanistan</td>\n",
       "      <td>AFG</td>\n",
       "      <td>38041757.0</td>\n",
       "      <td>Asia</td>\n",
       "    </tr>\n",
       "    <tr>\n",
       "      <th>2</th>\n",
       "      <td>12/12/2020</td>\n",
       "      <td>12</td>\n",
       "      <td>12</td>\n",
       "      <td>2020</td>\n",
       "      <td>113</td>\n",
       "      <td>11</td>\n",
       "      <td>Afghanistan</td>\n",
       "      <td>AFG</td>\n",
       "      <td>38041757.0</td>\n",
       "      <td>Asia</td>\n",
       "    </tr>\n",
       "    <tr>\n",
       "      <th>3</th>\n",
       "      <td>12/12/2020</td>\n",
       "      <td>12</td>\n",
       "      <td>12</td>\n",
       "      <td>2020</td>\n",
       "      <td>113</td>\n",
       "      <td>11</td>\n",
       "      <td>Afghanistan</td>\n",
       "      <td>AFG</td>\n",
       "      <td>38041757.0</td>\n",
       "      <td>Asia</td>\n",
       "    </tr>\n",
       "    <tr>\n",
       "      <th>4</th>\n",
       "      <td>11/12/2020</td>\n",
       "      <td>11</td>\n",
       "      <td>12</td>\n",
       "      <td>2020</td>\n",
       "      <td>63</td>\n",
       "      <td>10</td>\n",
       "      <td>Afghanistan</td>\n",
       "      <td>AFG</td>\n",
       "      <td>38041757.0</td>\n",
       "      <td>Asia</td>\n",
       "    </tr>\n",
       "    <tr>\n",
       "      <th>...</th>\n",
       "      <td>...</td>\n",
       "      <td>...</td>\n",
       "      <td>...</td>\n",
       "      <td>...</td>\n",
       "      <td>...</td>\n",
       "      <td>...</td>\n",
       "      <td>...</td>\n",
       "      <td>...</td>\n",
       "      <td>...</td>\n",
       "      <td>...</td>\n",
       "    </tr>\n",
       "    <tr>\n",
       "      <th>61899</th>\n",
       "      <td>25/03/2020</td>\n",
       "      <td>25</td>\n",
       "      <td>3</td>\n",
       "      <td>2020</td>\n",
       "      <td>0</td>\n",
       "      <td>0</td>\n",
       "      <td>Zimbabwe</td>\n",
       "      <td>ZWE</td>\n",
       "      <td>14645473.0</td>\n",
       "      <td>Africa</td>\n",
       "    </tr>\n",
       "    <tr>\n",
       "      <th>61900</th>\n",
       "      <td>24/03/2020</td>\n",
       "      <td>24</td>\n",
       "      <td>3</td>\n",
       "      <td>2020</td>\n",
       "      <td>0</td>\n",
       "      <td>1</td>\n",
       "      <td>Zimbabwe</td>\n",
       "      <td>ZWE</td>\n",
       "      <td>14645473.0</td>\n",
       "      <td>Africa</td>\n",
       "    </tr>\n",
       "    <tr>\n",
       "      <th>61901</th>\n",
       "      <td>23/03/2020</td>\n",
       "      <td>23</td>\n",
       "      <td>3</td>\n",
       "      <td>2020</td>\n",
       "      <td>0</td>\n",
       "      <td>0</td>\n",
       "      <td>Zimbabwe</td>\n",
       "      <td>ZWE</td>\n",
       "      <td>14645473.0</td>\n",
       "      <td>Africa</td>\n",
       "    </tr>\n",
       "    <tr>\n",
       "      <th>61902</th>\n",
       "      <td>22/03/2020</td>\n",
       "      <td>22</td>\n",
       "      <td>3</td>\n",
       "      <td>2020</td>\n",
       "      <td>1</td>\n",
       "      <td>0</td>\n",
       "      <td>Zimbabwe</td>\n",
       "      <td>ZWE</td>\n",
       "      <td>14645473.0</td>\n",
       "      <td>Africa</td>\n",
       "    </tr>\n",
       "    <tr>\n",
       "      <th>61903</th>\n",
       "      <td>21/03/2020</td>\n",
       "      <td>21</td>\n",
       "      <td>3</td>\n",
       "      <td>2020</td>\n",
       "      <td>1</td>\n",
       "      <td>0</td>\n",
       "      <td>Zimbabwe</td>\n",
       "      <td>ZWE</td>\n",
       "      <td>14645473.0</td>\n",
       "      <td>Africa</td>\n",
       "    </tr>\n",
       "  </tbody>\n",
       "</table>\n",
       "<p>61904 rows × 10 columns</p>\n",
       "</div>"
      ],
      "text/plain": [
       "          dateRep  day  month  year  cases  deaths countriesAndTerritories  \\\n",
       "0      14/12/2020   14     12  2020    746       6             Afghanistan   \n",
       "1      13/12/2020   13     12  2020    298       9             Afghanistan   \n",
       "2      12/12/2020   12     12  2020    113      11             Afghanistan   \n",
       "3      12/12/2020   12     12  2020    113      11             Afghanistan   \n",
       "4      11/12/2020   11     12  2020     63      10             Afghanistan   \n",
       "...           ...  ...    ...   ...    ...     ...                     ...   \n",
       "61899  25/03/2020   25      3  2020      0       0                Zimbabwe   \n",
       "61900  24/03/2020   24      3  2020      0       1                Zimbabwe   \n",
       "61901  23/03/2020   23      3  2020      0       0                Zimbabwe   \n",
       "61902  22/03/2020   22      3  2020      1       0                Zimbabwe   \n",
       "61903  21/03/2020   21      3  2020      1       0                Zimbabwe   \n",
       "\n",
       "      countryterritoryCode  popData2019 continentExp  \n",
       "0                      AFG   38041757.0         Asia  \n",
       "1                      AFG   38041757.0         Asia  \n",
       "2                      AFG   38041757.0         Asia  \n",
       "3                      AFG   38041757.0         Asia  \n",
       "4                      AFG   38041757.0         Asia  \n",
       "...                    ...          ...          ...  \n",
       "61899                  ZWE   14645473.0       Africa  \n",
       "61900                  ZWE   14645473.0       Africa  \n",
       "61901                  ZWE   14645473.0       Africa  \n",
       "61902                  ZWE   14645473.0       Africa  \n",
       "61903                  ZWE   14645473.0       Africa  \n",
       "\n",
       "[61904 rows x 10 columns]"
      ]
     },
     "execution_count": 8,
     "metadata": {},
     "output_type": "execute_result"
    }
   ],
   "source": [
    "# Удалить два признака, в которых больше всех пропущенных значений.\n",
    "data.drop(\n",
    "    columns=['Cumulative_number_for_14_days_of_COVID-19_cases_per_100000', 'geoId'],\n",
    "    inplace=True,\n",
    ")\n",
    "data"
   ]
  },
  {
   "cell_type": "code",
   "execution_count": 12,
   "metadata": {},
   "outputs": [],
   "source": [
    "# Для оставшихся признаков обработать пропуски: \n",
    "# для категориального признака использовать заполнение значением по умолчанию (например, « »), \n",
    "data['countryterritoryCode'] = data['countryterritoryCode'].fillna('not stated')"
   ]
  },
  {
   "cell_type": "code",
   "execution_count": 13,
   "metadata": {},
   "outputs": [],
   "source": [
    "# для числового признака использовать заполнение медианным значением.\n",
    "median_pop_data = data['popData2019'].median()\n",
    "data['popData2019'] = data['popData2019'].fillna(median_pop_data)"
   ]
  },
  {
   "cell_type": "code",
   "execution_count": 14,
   "metadata": {},
   "outputs": [
    {
     "data": {
      "text/plain": [
       "dateRep                    0.0\n",
       "day                        0.0\n",
       "month                      0.0\n",
       "year                       0.0\n",
       "cases                      0.0\n",
       "deaths                     0.0\n",
       "countriesAndTerritories    0.0\n",
       "countryterritoryCode       0.0\n",
       "popData2019                0.0\n",
       "continentExp               0.0\n",
       "dtype: float64"
      ]
     },
     "execution_count": 14,
     "metadata": {},
     "output_type": "execute_result"
    }
   ],
   "source": [
    "# Показать, что пропусков больше в данных нет.\n",
    "data.isna().sum().apply(lambda x: x / len(data)).sort_values()"
   ]
  },
  {
   "cell_type": "markdown",
   "metadata": {},
   "source": [
    "### 11. Анализ признаков на выбросы"
   ]
  },
  {
   "cell_type": "code",
   "execution_count": 15,
   "metadata": {},
   "outputs": [
    {
     "data": {
      "text/html": [
       "<div>\n",
       "<style scoped>\n",
       "    .dataframe tbody tr th:only-of-type {\n",
       "        vertical-align: middle;\n",
       "    }\n",
       "\n",
       "    .dataframe tbody tr th {\n",
       "        vertical-align: top;\n",
       "    }\n",
       "\n",
       "    .dataframe thead th {\n",
       "        text-align: right;\n",
       "    }\n",
       "</style>\n",
       "<table border=\"1\" class=\"dataframe\">\n",
       "  <thead>\n",
       "    <tr style=\"text-align: right;\">\n",
       "      <th></th>\n",
       "      <th>day</th>\n",
       "      <th>month</th>\n",
       "      <th>year</th>\n",
       "      <th>cases</th>\n",
       "      <th>deaths</th>\n",
       "      <th>popData2019</th>\n",
       "    </tr>\n",
       "  </thead>\n",
       "  <tbody>\n",
       "    <tr>\n",
       "      <th>count</th>\n",
       "      <td>61904.000000</td>\n",
       "      <td>61904.000000</td>\n",
       "      <td>61904.000000</td>\n",
       "      <td>61904.000000</td>\n",
       "      <td>61904.000000</td>\n",
       "      <td>6.190400e+04</td>\n",
       "    </tr>\n",
       "    <tr>\n",
       "      <th>mean</th>\n",
       "      <td>15.629232</td>\n",
       "      <td>7.067104</td>\n",
       "      <td>2019.998918</td>\n",
       "      <td>1155.079026</td>\n",
       "      <td>26.053987</td>\n",
       "      <td>4.091909e+07</td>\n",
       "    </tr>\n",
       "    <tr>\n",
       "      <th>std</th>\n",
       "      <td>8.841624</td>\n",
       "      <td>2.954816</td>\n",
       "      <td>0.032881</td>\n",
       "      <td>6779.010824</td>\n",
       "      <td>131.222948</td>\n",
       "      <td>1.529798e+08</td>\n",
       "    </tr>\n",
       "    <tr>\n",
       "      <th>min</th>\n",
       "      <td>1.000000</td>\n",
       "      <td>1.000000</td>\n",
       "      <td>2019.000000</td>\n",
       "      <td>-8261.000000</td>\n",
       "      <td>-1918.000000</td>\n",
       "      <td>8.150000e+02</td>\n",
       "    </tr>\n",
       "    <tr>\n",
       "      <th>25%</th>\n",
       "      <td>8.000000</td>\n",
       "      <td>5.000000</td>\n",
       "      <td>2020.000000</td>\n",
       "      <td>0.000000</td>\n",
       "      <td>0.000000</td>\n",
       "      <td>1.324820e+06</td>\n",
       "    </tr>\n",
       "    <tr>\n",
       "      <th>50%</th>\n",
       "      <td>15.000000</td>\n",
       "      <td>7.000000</td>\n",
       "      <td>2020.000000</td>\n",
       "      <td>15.000000</td>\n",
       "      <td>0.000000</td>\n",
       "      <td>7.169456e+06</td>\n",
       "    </tr>\n",
       "    <tr>\n",
       "      <th>75%</th>\n",
       "      <td>23.000000</td>\n",
       "      <td>10.000000</td>\n",
       "      <td>2020.000000</td>\n",
       "      <td>273.000000</td>\n",
       "      <td>4.000000</td>\n",
       "      <td>2.851583e+07</td>\n",
       "    </tr>\n",
       "    <tr>\n",
       "      <th>max</th>\n",
       "      <td>31.000000</td>\n",
       "      <td>12.000000</td>\n",
       "      <td>2020.000000</td>\n",
       "      <td>234633.000000</td>\n",
       "      <td>4928.000000</td>\n",
       "      <td>1.433784e+09</td>\n",
       "    </tr>\n",
       "  </tbody>\n",
       "</table>\n",
       "</div>"
      ],
      "text/plain": [
       "                day         month          year          cases        deaths  \\\n",
       "count  61904.000000  61904.000000  61904.000000   61904.000000  61904.000000   \n",
       "mean      15.629232      7.067104   2019.998918    1155.079026     26.053987   \n",
       "std        8.841624      2.954816      0.032881    6779.010824    131.222948   \n",
       "min        1.000000      1.000000   2019.000000   -8261.000000  -1918.000000   \n",
       "25%        8.000000      5.000000   2020.000000       0.000000      0.000000   \n",
       "50%       15.000000      7.000000   2020.000000      15.000000      0.000000   \n",
       "75%       23.000000     10.000000   2020.000000     273.000000      4.000000   \n",
       "max       31.000000     12.000000   2020.000000  234633.000000   4928.000000   \n",
       "\n",
       "        popData2019  \n",
       "count  6.190400e+04  \n",
       "mean   4.091909e+07  \n",
       "std    1.529798e+08  \n",
       "min    8.150000e+02  \n",
       "25%    1.324820e+06  \n",
       "50%    7.169456e+06  \n",
       "75%    2.851583e+07  \n",
       "max    1.433784e+09  "
      ]
     },
     "execution_count": 15,
     "metadata": {},
     "output_type": "execute_result"
    }
   ],
   "source": [
    "# Посмотреть статистику по данным, используя describe().\n",
    "data.describe()"
   ]
  },
  {
   "cell_type": "markdown",
   "metadata": {},
   "source": [
    "Выводы:\n",
    "* Столбцы `day`, `month` и `year` не содержат выбросов и лежат в ожидаемых диапазонах\n",
    "* Стобец `cases` при среднем `1155.07`, стандартном отклонении `6779.01` и интервале значений `(-8261, 234633)` явно имеет выбросы\n",
    "* Стобец `deaths` при среднем `26.05`, стандартном отклонении `131.22` и интервале значений `(-1918, 4928)` явно имеет выбросы\n",
    "* Стобец `popData2019` при среднем `4.091909e+07`, стандартном отклонении `1.529798e+08` и интервале значений `(8.150000e+02, 1.433784e+09)` явно имеет выбросы "
   ]
  },
  {
   "cell_type": "code",
   "execution_count": 20,
   "metadata": {},
   "outputs": [
    {
     "data": {
      "text/plain": [
       "countriesAndTerritories\n",
       "Argentina                   1\n",
       "Ecuador                     1\n",
       "Mexico                      1\n",
       "Peru                        2\n",
       "United_States_of_America    6\n",
       "dtype: int64"
      ]
     },
     "execution_count": 20,
     "metadata": {},
     "output_type": "execute_result"
    }
   ],
   "source": [
    "# Посмотреть, для каких стран количество смертей в день превысило 3000 и сколько таких дней было.\n",
    "data[data['deaths'] > 3000].groupby(by=['countriesAndTerritories']).size()"
   ]
  },
  {
   "cell_type": "markdown",
   "metadata": {},
   "source": [
    "### 12. Удаление дублирующихся данных"
   ]
  },
  {
   "cell_type": "code",
   "execution_count": 24,
   "metadata": {},
   "outputs": [
    {
     "data": {
      "text/html": [
       "<div>\n",
       "<style scoped>\n",
       "    .dataframe tbody tr th:only-of-type {\n",
       "        vertical-align: middle;\n",
       "    }\n",
       "\n",
       "    .dataframe tbody tr th {\n",
       "        vertical-align: top;\n",
       "    }\n",
       "\n",
       "    .dataframe thead th {\n",
       "        text-align: right;\n",
       "    }\n",
       "</style>\n",
       "<table border=\"1\" class=\"dataframe\">\n",
       "  <thead>\n",
       "    <tr style=\"text-align: right;\">\n",
       "      <th></th>\n",
       "      <th>dateRep</th>\n",
       "      <th>day</th>\n",
       "      <th>month</th>\n",
       "      <th>year</th>\n",
       "      <th>cases</th>\n",
       "      <th>deaths</th>\n",
       "      <th>countriesAndTerritories</th>\n",
       "      <th>countryterritoryCode</th>\n",
       "      <th>popData2019</th>\n",
       "      <th>continentExp</th>\n",
       "    </tr>\n",
       "  </thead>\n",
       "  <tbody>\n",
       "    <tr>\n",
       "      <th>0</th>\n",
       "      <td>14/12/2020</td>\n",
       "      <td>14</td>\n",
       "      <td>12</td>\n",
       "      <td>2020</td>\n",
       "      <td>746</td>\n",
       "      <td>6</td>\n",
       "      <td>Afghanistan</td>\n",
       "      <td>AFG</td>\n",
       "      <td>38041757.0</td>\n",
       "      <td>Asia</td>\n",
       "    </tr>\n",
       "    <tr>\n",
       "      <th>1</th>\n",
       "      <td>13/12/2020</td>\n",
       "      <td>13</td>\n",
       "      <td>12</td>\n",
       "      <td>2020</td>\n",
       "      <td>298</td>\n",
       "      <td>9</td>\n",
       "      <td>Afghanistan</td>\n",
       "      <td>AFG</td>\n",
       "      <td>38041757.0</td>\n",
       "      <td>Asia</td>\n",
       "    </tr>\n",
       "    <tr>\n",
       "      <th>2</th>\n",
       "      <td>12/12/2020</td>\n",
       "      <td>12</td>\n",
       "      <td>12</td>\n",
       "      <td>2020</td>\n",
       "      <td>113</td>\n",
       "      <td>11</td>\n",
       "      <td>Afghanistan</td>\n",
       "      <td>AFG</td>\n",
       "      <td>38041757.0</td>\n",
       "      <td>Asia</td>\n",
       "    </tr>\n",
       "    <tr>\n",
       "      <th>3</th>\n",
       "      <td>12/12/2020</td>\n",
       "      <td>12</td>\n",
       "      <td>12</td>\n",
       "      <td>2020</td>\n",
       "      <td>113</td>\n",
       "      <td>11</td>\n",
       "      <td>Afghanistan</td>\n",
       "      <td>AFG</td>\n",
       "      <td>38041757.0</td>\n",
       "      <td>Asia</td>\n",
       "    </tr>\n",
       "    <tr>\n",
       "      <th>4</th>\n",
       "      <td>11/12/2020</td>\n",
       "      <td>11</td>\n",
       "      <td>12</td>\n",
       "      <td>2020</td>\n",
       "      <td>63</td>\n",
       "      <td>10</td>\n",
       "      <td>Afghanistan</td>\n",
       "      <td>AFG</td>\n",
       "      <td>38041757.0</td>\n",
       "      <td>Asia</td>\n",
       "    </tr>\n",
       "    <tr>\n",
       "      <th>...</th>\n",
       "      <td>...</td>\n",
       "      <td>...</td>\n",
       "      <td>...</td>\n",
       "      <td>...</td>\n",
       "      <td>...</td>\n",
       "      <td>...</td>\n",
       "      <td>...</td>\n",
       "      <td>...</td>\n",
       "      <td>...</td>\n",
       "      <td>...</td>\n",
       "    </tr>\n",
       "    <tr>\n",
       "      <th>61899</th>\n",
       "      <td>25/03/2020</td>\n",
       "      <td>25</td>\n",
       "      <td>3</td>\n",
       "      <td>2020</td>\n",
       "      <td>0</td>\n",
       "      <td>0</td>\n",
       "      <td>Zimbabwe</td>\n",
       "      <td>ZWE</td>\n",
       "      <td>14645473.0</td>\n",
       "      <td>Africa</td>\n",
       "    </tr>\n",
       "    <tr>\n",
       "      <th>61900</th>\n",
       "      <td>24/03/2020</td>\n",
       "      <td>24</td>\n",
       "      <td>3</td>\n",
       "      <td>2020</td>\n",
       "      <td>0</td>\n",
       "      <td>1</td>\n",
       "      <td>Zimbabwe</td>\n",
       "      <td>ZWE</td>\n",
       "      <td>14645473.0</td>\n",
       "      <td>Africa</td>\n",
       "    </tr>\n",
       "    <tr>\n",
       "      <th>61901</th>\n",
       "      <td>23/03/2020</td>\n",
       "      <td>23</td>\n",
       "      <td>3</td>\n",
       "      <td>2020</td>\n",
       "      <td>0</td>\n",
       "      <td>0</td>\n",
       "      <td>Zimbabwe</td>\n",
       "      <td>ZWE</td>\n",
       "      <td>14645473.0</td>\n",
       "      <td>Africa</td>\n",
       "    </tr>\n",
       "    <tr>\n",
       "      <th>61902</th>\n",
       "      <td>22/03/2020</td>\n",
       "      <td>22</td>\n",
       "      <td>3</td>\n",
       "      <td>2020</td>\n",
       "      <td>1</td>\n",
       "      <td>0</td>\n",
       "      <td>Zimbabwe</td>\n",
       "      <td>ZWE</td>\n",
       "      <td>14645473.0</td>\n",
       "      <td>Africa</td>\n",
       "    </tr>\n",
       "    <tr>\n",
       "      <th>61903</th>\n",
       "      <td>21/03/2020</td>\n",
       "      <td>21</td>\n",
       "      <td>3</td>\n",
       "      <td>2020</td>\n",
       "      <td>1</td>\n",
       "      <td>0</td>\n",
       "      <td>Zimbabwe</td>\n",
       "      <td>ZWE</td>\n",
       "      <td>14645473.0</td>\n",
       "      <td>Africa</td>\n",
       "    </tr>\n",
       "  </tbody>\n",
       "</table>\n",
       "<p>61904 rows × 10 columns</p>\n",
       "</div>"
      ],
      "text/plain": [
       "          dateRep  day  month  year  cases  deaths countriesAndTerritories  \\\n",
       "0      14/12/2020   14     12  2020    746       6             Afghanistan   \n",
       "1      13/12/2020   13     12  2020    298       9             Afghanistan   \n",
       "2      12/12/2020   12     12  2020    113      11             Afghanistan   \n",
       "3      12/12/2020   12     12  2020    113      11             Afghanistan   \n",
       "4      11/12/2020   11     12  2020     63      10             Afghanistan   \n",
       "...           ...  ...    ...   ...    ...     ...                     ...   \n",
       "61899  25/03/2020   25      3  2020      0       0                Zimbabwe   \n",
       "61900  24/03/2020   24      3  2020      0       1                Zimbabwe   \n",
       "61901  23/03/2020   23      3  2020      0       0                Zimbabwe   \n",
       "61902  22/03/2020   22      3  2020      1       0                Zimbabwe   \n",
       "61903  21/03/2020   21      3  2020      1       0                Zimbabwe   \n",
       "\n",
       "      countryterritoryCode  popData2019 continentExp  \n",
       "0                      AFG   38041757.0         Asia  \n",
       "1                      AFG   38041757.0         Asia  \n",
       "2                      AFG   38041757.0         Asia  \n",
       "3                      AFG   38041757.0         Asia  \n",
       "4                      AFG   38041757.0         Asia  \n",
       "...                    ...          ...          ...  \n",
       "61899                  ZWE   14645473.0       Africa  \n",
       "61900                  ZWE   14645473.0       Africa  \n",
       "61901                  ZWE   14645473.0       Africa  \n",
       "61902                  ZWE   14645473.0       Africa  \n",
       "61903                  ZWE   14645473.0       Africa  \n",
       "\n",
       "[61904 rows x 10 columns]"
      ]
     },
     "execution_count": 24,
     "metadata": {},
     "output_type": "execute_result"
    }
   ],
   "source": [
    "data"
   ]
  },
  {
   "cell_type": "code",
   "execution_count": 25,
   "metadata": {},
   "outputs": [
    {
     "data": {
      "text/html": [
       "<div>\n",
       "<style scoped>\n",
       "    .dataframe tbody tr th:only-of-type {\n",
       "        vertical-align: middle;\n",
       "    }\n",
       "\n",
       "    .dataframe tbody tr th {\n",
       "        vertical-align: top;\n",
       "    }\n",
       "\n",
       "    .dataframe thead th {\n",
       "        text-align: right;\n",
       "    }\n",
       "</style>\n",
       "<table border=\"1\" class=\"dataframe\">\n",
       "  <thead>\n",
       "    <tr style=\"text-align: right;\">\n",
       "      <th></th>\n",
       "      <th>dateRep</th>\n",
       "      <th>day</th>\n",
       "      <th>month</th>\n",
       "      <th>year</th>\n",
       "      <th>cases</th>\n",
       "      <th>deaths</th>\n",
       "      <th>countriesAndTerritories</th>\n",
       "      <th>countryterritoryCode</th>\n",
       "      <th>popData2019</th>\n",
       "      <th>continentExp</th>\n",
       "    </tr>\n",
       "  </thead>\n",
       "  <tbody>\n",
       "    <tr>\n",
       "      <th>3</th>\n",
       "      <td>12/12/2020</td>\n",
       "      <td>12</td>\n",
       "      <td>12</td>\n",
       "      <td>2020</td>\n",
       "      <td>113</td>\n",
       "      <td>11</td>\n",
       "      <td>Afghanistan</td>\n",
       "      <td>AFG</td>\n",
       "      <td>38041757.0</td>\n",
       "      <td>Asia</td>\n",
       "    </tr>\n",
       "    <tr>\n",
       "      <th>218</th>\n",
       "      <td>12/05/2020</td>\n",
       "      <td>12</td>\n",
       "      <td>5</td>\n",
       "      <td>2020</td>\n",
       "      <td>285</td>\n",
       "      <td>2</td>\n",
       "      <td>Afghanistan</td>\n",
       "      <td>AFG</td>\n",
       "      <td>38041757.0</td>\n",
       "      <td>Asia</td>\n",
       "    </tr>\n",
       "    <tr>\n",
       "      <th>48010</th>\n",
       "      <td>29/05/2020</td>\n",
       "      <td>29</td>\n",
       "      <td>5</td>\n",
       "      <td>2020</td>\n",
       "      <td>0</td>\n",
       "      <td>0</td>\n",
       "      <td>Saint_Lucia</td>\n",
       "      <td>LCA</td>\n",
       "      <td>182795.0</td>\n",
       "      <td>America</td>\n",
       "    </tr>\n",
       "    <tr>\n",
       "      <th>48073</th>\n",
       "      <td>28/03/2020</td>\n",
       "      <td>28</td>\n",
       "      <td>3</td>\n",
       "      <td>2020</td>\n",
       "      <td>0</td>\n",
       "      <td>0</td>\n",
       "      <td>Saint_Lucia</td>\n",
       "      <td>LCA</td>\n",
       "      <td>182795.0</td>\n",
       "      <td>America</td>\n",
       "    </tr>\n",
       "  </tbody>\n",
       "</table>\n",
       "</div>"
      ],
      "text/plain": [
       "          dateRep  day  month  year  cases  deaths countriesAndTerritories  \\\n",
       "3      12/12/2020   12     12  2020    113      11             Afghanistan   \n",
       "218    12/05/2020   12      5  2020    285       2             Afghanistan   \n",
       "48010  29/05/2020   29      5  2020      0       0             Saint_Lucia   \n",
       "48073  28/03/2020   28      3  2020      0       0             Saint_Lucia   \n",
       "\n",
       "      countryterritoryCode  popData2019 continentExp  \n",
       "3                      AFG   38041757.0         Asia  \n",
       "218                    AFG   38041757.0         Asia  \n",
       "48010                  LCA     182795.0      America  \n",
       "48073                  LCA     182795.0      America  "
      ]
     },
     "execution_count": 25,
     "metadata": {},
     "output_type": "execute_result"
    }
   ],
   "source": [
    "# Найти дублирование данных.\n",
    "data[data.duplicated()]"
   ]
  },
  {
   "cell_type": "code",
   "execution_count": 27,
   "metadata": {},
   "outputs": [
    {
     "data": {
      "text/html": [
       "<div>\n",
       "<style scoped>\n",
       "    .dataframe tbody tr th:only-of-type {\n",
       "        vertical-align: middle;\n",
       "    }\n",
       "\n",
       "    .dataframe tbody tr th {\n",
       "        vertical-align: top;\n",
       "    }\n",
       "\n",
       "    .dataframe thead th {\n",
       "        text-align: right;\n",
       "    }\n",
       "</style>\n",
       "<table border=\"1\" class=\"dataframe\">\n",
       "  <thead>\n",
       "    <tr style=\"text-align: right;\">\n",
       "      <th></th>\n",
       "      <th>dateRep</th>\n",
       "      <th>day</th>\n",
       "      <th>month</th>\n",
       "      <th>year</th>\n",
       "      <th>cases</th>\n",
       "      <th>deaths</th>\n",
       "      <th>countriesAndTerritories</th>\n",
       "      <th>countryterritoryCode</th>\n",
       "      <th>popData2019</th>\n",
       "      <th>continentExp</th>\n",
       "    </tr>\n",
       "  </thead>\n",
       "  <tbody>\n",
       "    <tr>\n",
       "      <th>0</th>\n",
       "      <td>14/12/2020</td>\n",
       "      <td>14</td>\n",
       "      <td>12</td>\n",
       "      <td>2020</td>\n",
       "      <td>746</td>\n",
       "      <td>6</td>\n",
       "      <td>Afghanistan</td>\n",
       "      <td>AFG</td>\n",
       "      <td>38041757.0</td>\n",
       "      <td>Asia</td>\n",
       "    </tr>\n",
       "    <tr>\n",
       "      <th>1</th>\n",
       "      <td>13/12/2020</td>\n",
       "      <td>13</td>\n",
       "      <td>12</td>\n",
       "      <td>2020</td>\n",
       "      <td>298</td>\n",
       "      <td>9</td>\n",
       "      <td>Afghanistan</td>\n",
       "      <td>AFG</td>\n",
       "      <td>38041757.0</td>\n",
       "      <td>Asia</td>\n",
       "    </tr>\n",
       "    <tr>\n",
       "      <th>2</th>\n",
       "      <td>12/12/2020</td>\n",
       "      <td>12</td>\n",
       "      <td>12</td>\n",
       "      <td>2020</td>\n",
       "      <td>113</td>\n",
       "      <td>11</td>\n",
       "      <td>Afghanistan</td>\n",
       "      <td>AFG</td>\n",
       "      <td>38041757.0</td>\n",
       "      <td>Asia</td>\n",
       "    </tr>\n",
       "    <tr>\n",
       "      <th>4</th>\n",
       "      <td>11/12/2020</td>\n",
       "      <td>11</td>\n",
       "      <td>12</td>\n",
       "      <td>2020</td>\n",
       "      <td>63</td>\n",
       "      <td>10</td>\n",
       "      <td>Afghanistan</td>\n",
       "      <td>AFG</td>\n",
       "      <td>38041757.0</td>\n",
       "      <td>Asia</td>\n",
       "    </tr>\n",
       "    <tr>\n",
       "      <th>5</th>\n",
       "      <td>10/12/2020</td>\n",
       "      <td>10</td>\n",
       "      <td>12</td>\n",
       "      <td>2020</td>\n",
       "      <td>202</td>\n",
       "      <td>16</td>\n",
       "      <td>Afghanistan</td>\n",
       "      <td>AFG</td>\n",
       "      <td>38041757.0</td>\n",
       "      <td>Asia</td>\n",
       "    </tr>\n",
       "    <tr>\n",
       "      <th>...</th>\n",
       "      <td>...</td>\n",
       "      <td>...</td>\n",
       "      <td>...</td>\n",
       "      <td>...</td>\n",
       "      <td>...</td>\n",
       "      <td>...</td>\n",
       "      <td>...</td>\n",
       "      <td>...</td>\n",
       "      <td>...</td>\n",
       "      <td>...</td>\n",
       "    </tr>\n",
       "    <tr>\n",
       "      <th>61899</th>\n",
       "      <td>25/03/2020</td>\n",
       "      <td>25</td>\n",
       "      <td>3</td>\n",
       "      <td>2020</td>\n",
       "      <td>0</td>\n",
       "      <td>0</td>\n",
       "      <td>Zimbabwe</td>\n",
       "      <td>ZWE</td>\n",
       "      <td>14645473.0</td>\n",
       "      <td>Africa</td>\n",
       "    </tr>\n",
       "    <tr>\n",
       "      <th>61900</th>\n",
       "      <td>24/03/2020</td>\n",
       "      <td>24</td>\n",
       "      <td>3</td>\n",
       "      <td>2020</td>\n",
       "      <td>0</td>\n",
       "      <td>1</td>\n",
       "      <td>Zimbabwe</td>\n",
       "      <td>ZWE</td>\n",
       "      <td>14645473.0</td>\n",
       "      <td>Africa</td>\n",
       "    </tr>\n",
       "    <tr>\n",
       "      <th>61901</th>\n",
       "      <td>23/03/2020</td>\n",
       "      <td>23</td>\n",
       "      <td>3</td>\n",
       "      <td>2020</td>\n",
       "      <td>0</td>\n",
       "      <td>0</td>\n",
       "      <td>Zimbabwe</td>\n",
       "      <td>ZWE</td>\n",
       "      <td>14645473.0</td>\n",
       "      <td>Africa</td>\n",
       "    </tr>\n",
       "    <tr>\n",
       "      <th>61902</th>\n",
       "      <td>22/03/2020</td>\n",
       "      <td>22</td>\n",
       "      <td>3</td>\n",
       "      <td>2020</td>\n",
       "      <td>1</td>\n",
       "      <td>0</td>\n",
       "      <td>Zimbabwe</td>\n",
       "      <td>ZWE</td>\n",
       "      <td>14645473.0</td>\n",
       "      <td>Africa</td>\n",
       "    </tr>\n",
       "    <tr>\n",
       "      <th>61903</th>\n",
       "      <td>21/03/2020</td>\n",
       "      <td>21</td>\n",
       "      <td>3</td>\n",
       "      <td>2020</td>\n",
       "      <td>1</td>\n",
       "      <td>0</td>\n",
       "      <td>Zimbabwe</td>\n",
       "      <td>ZWE</td>\n",
       "      <td>14645473.0</td>\n",
       "      <td>Africa</td>\n",
       "    </tr>\n",
       "  </tbody>\n",
       "</table>\n",
       "<p>61900 rows × 10 columns</p>\n",
       "</div>"
      ],
      "text/plain": [
       "          dateRep  day  month  year  cases  deaths countriesAndTerritories  \\\n",
       "0      14/12/2020   14     12  2020    746       6             Afghanistan   \n",
       "1      13/12/2020   13     12  2020    298       9             Afghanistan   \n",
       "2      12/12/2020   12     12  2020    113      11             Afghanistan   \n",
       "4      11/12/2020   11     12  2020     63      10             Afghanistan   \n",
       "5      10/12/2020   10     12  2020    202      16             Afghanistan   \n",
       "...           ...  ...    ...   ...    ...     ...                     ...   \n",
       "61899  25/03/2020   25      3  2020      0       0                Zimbabwe   \n",
       "61900  24/03/2020   24      3  2020      0       1                Zimbabwe   \n",
       "61901  23/03/2020   23      3  2020      0       0                Zimbabwe   \n",
       "61902  22/03/2020   22      3  2020      1       0                Zimbabwe   \n",
       "61903  21/03/2020   21      3  2020      1       0                Zimbabwe   \n",
       "\n",
       "      countryterritoryCode  popData2019 continentExp  \n",
       "0                      AFG   38041757.0         Asia  \n",
       "1                      AFG   38041757.0         Asia  \n",
       "2                      AFG   38041757.0         Asia  \n",
       "4                      AFG   38041757.0         Asia  \n",
       "5                      AFG   38041757.0         Asia  \n",
       "...                    ...          ...          ...  \n",
       "61899                  ZWE   14645473.0       Africa  \n",
       "61900                  ZWE   14645473.0       Africa  \n",
       "61901                  ZWE   14645473.0       Africa  \n",
       "61902                  ZWE   14645473.0       Africa  \n",
       "61903                  ZWE   14645473.0       Africa  \n",
       "\n",
       "[61900 rows x 10 columns]"
      ]
     },
     "execution_count": 27,
     "metadata": {},
     "output_type": "execute_result"
    }
   ],
   "source": [
    "# Удалить дубликаты.\n",
    "data = data.drop_duplicates()\n",
    "data"
   ]
  },
  {
   "cell_type": "markdown",
   "metadata": {},
   "source": [
    "## 13. Датасет bmi"
   ]
  },
  {
   "cell_type": "code",
   "execution_count": 28,
   "metadata": {},
   "outputs": [
    {
     "data": {
      "text/html": [
       "<div>\n",
       "<style scoped>\n",
       "    .dataframe tbody tr th:only-of-type {\n",
       "        vertical-align: middle;\n",
       "    }\n",
       "\n",
       "    .dataframe tbody tr th {\n",
       "        vertical-align: top;\n",
       "    }\n",
       "\n",
       "    .dataframe thead th {\n",
       "        text-align: right;\n",
       "    }\n",
       "</style>\n",
       "<table border=\"1\" class=\"dataframe\">\n",
       "  <thead>\n",
       "    <tr style=\"text-align: right;\">\n",
       "      <th></th>\n",
       "      <th>bmi</th>\n",
       "      <th>region</th>\n",
       "    </tr>\n",
       "  </thead>\n",
       "  <tbody>\n",
       "    <tr>\n",
       "      <th>0</th>\n",
       "      <td>22.705</td>\n",
       "      <td>northwest</td>\n",
       "    </tr>\n",
       "    <tr>\n",
       "      <th>1</th>\n",
       "      <td>28.880</td>\n",
       "      <td>northwest</td>\n",
       "    </tr>\n",
       "    <tr>\n",
       "      <th>2</th>\n",
       "      <td>27.740</td>\n",
       "      <td>northwest</td>\n",
       "    </tr>\n",
       "    <tr>\n",
       "      <th>3</th>\n",
       "      <td>25.840</td>\n",
       "      <td>northwest</td>\n",
       "    </tr>\n",
       "    <tr>\n",
       "      <th>4</th>\n",
       "      <td>28.025</td>\n",
       "      <td>northwest</td>\n",
       "    </tr>\n",
       "    <tr>\n",
       "      <th>...</th>\n",
       "      <td>...</td>\n",
       "      <td>...</td>\n",
       "    </tr>\n",
       "    <tr>\n",
       "      <th>645</th>\n",
       "      <td>20.600</td>\n",
       "      <td>southwest</td>\n",
       "    </tr>\n",
       "    <tr>\n",
       "      <th>646</th>\n",
       "      <td>38.600</td>\n",
       "      <td>southwest</td>\n",
       "    </tr>\n",
       "    <tr>\n",
       "      <th>647</th>\n",
       "      <td>33.400</td>\n",
       "      <td>southwest</td>\n",
       "    </tr>\n",
       "    <tr>\n",
       "      <th>648</th>\n",
       "      <td>44.700</td>\n",
       "      <td>southwest</td>\n",
       "    </tr>\n",
       "    <tr>\n",
       "      <th>649</th>\n",
       "      <td>25.800</td>\n",
       "      <td>southwest</td>\n",
       "    </tr>\n",
       "  </tbody>\n",
       "</table>\n",
       "<p>650 rows × 2 columns</p>\n",
       "</div>"
      ],
      "text/plain": [
       "        bmi     region\n",
       "0    22.705  northwest\n",
       "1    28.880  northwest\n",
       "2    27.740  northwest\n",
       "3    25.840  northwest\n",
       "4    28.025  northwest\n",
       "..      ...        ...\n",
       "645  20.600  southwest\n",
       "646  38.600  southwest\n",
       "647  33.400  southwest\n",
       "648  44.700  southwest\n",
       "649  25.800  southwest\n",
       "\n",
       "[650 rows x 2 columns]"
      ]
     },
     "execution_count": 28,
     "metadata": {},
     "output_type": "execute_result"
    }
   ],
   "source": [
    "# Загрузить данные из файла “bmi.csv”.\n",
    "data = pd.read_csv('../data/bmi.csv')\n",
    "data"
   ]
  },
  {
   "cell_type": "code",
   "execution_count": 36,
   "metadata": {},
   "outputs": [],
   "source": [
    "# Взять оттуда две выборки. \n",
    "# Одна выборка – это индекс массы тела людей региона northwest, \n",
    "# вторая выборка – это индекс массы тела людей с региона southwest.\n",
    "regions_samples = {}\n",
    "for region in ('northwest', 'southwest'):\n",
    "    region_sample = data[data['region'] == region]\n",
    "    regions_samples[region] = region_sample['bmi']\n",
    "\n"
   ]
  },
  {
   "cell_type": "code",
   "execution_count": 40,
   "metadata": {},
   "outputs": [
    {
     "name": "stdout",
     "output_type": "stream",
     "text": [
      "testing distribution normality: northwest\n",
      " shapiro test p-value 0.4655335247516632\n",
      " sample has normal distribution\n",
      "testing distribution normality: southwest\n",
      " shapiro test p-value 0.3629520535469055\n",
      " sample has normal distribution\n"
     ]
    }
   ],
   "source": [
    "# Предварительно проверить выборки на нормальность (критерий Шопиро-Уилка)\n",
    "for region, sample in regions_samples.items():\n",
    "    print(f'testing distribution normality: {region}')\n",
    "    shapiro = sts.shapiro(sample)\n",
    "    print(f' shapiro test p-value {shapiro.pvalue}')\n",
    "    if shapiro.pvalue > 0.05:\n",
    "        print(' sample has normal distribution')\n",
    "    else: \n",
    "        print(' sample has not normal distribution')"
   ]
  },
  {
   "cell_type": "code",
   "execution_count": 41,
   "metadata": {},
   "outputs": [
    {
     "name": "stdout",
     "output_type": "stream",
     "text": [
      "testing sample dispersion equality\n",
      " bartlett test p-value 0.06519347353581818\n",
      " samples belong to one general population\n"
     ]
    }
   ],
   "source": [
    "# И на гомогенность дисперсии (критерий Бартлетта).\n",
    "print('testing sample dispersion equality')\n",
    "bartlett = sts.bartlett(regions_samples['northwest'], regions_samples['southwest'])\n",
    "print(f' bartlett test p-value {bartlett.pvalue}')\n",
    "if bartlett.pvalue > 0.05:\n",
    "    print(f' samples belong to one general population')\n",
    "else:\n",
    "    print(f' samples belong to different general populations')"
   ]
  },
  {
   "cell_type": "code",
   "execution_count": 43,
   "metadata": {},
   "outputs": [
    {
     "name": "stdout",
     "output_type": "stream",
     "text": [
      "testing statstic difference between two samples\n",
      " t-test p-value: 0.001076958496307695\n",
      " there is statistic difference between mens of two samples\n"
     ]
    }
   ],
   "source": [
    "# Сравнить средние значения этих выборок, используя t-критерий Стьюдента.\n",
    "print('testing statstic difference between two samples')\n",
    "t_test = sts.ttest_ind(regions_samples['northwest'], regions_samples['southwest'])\n",
    "print(f' t-test p-value: {t_test.pvalue}')\n",
    "if t_test.pvalue > 0.05:\n",
    "    print(f' there is not statistic difference between mens of two samples')\n",
    "else:\n",
    "    print(f' there is statistic difference between mens of two samples')"
   ]
  },
  {
   "cell_type": "markdown",
   "metadata": {},
   "source": [
    "## 14. Кубики"
   ]
  },
  {
   "cell_type": "code",
   "execution_count": 45,
   "metadata": {},
   "outputs": [
    {
     "data": {
      "text/html": [
       "<div>\n",
       "<style scoped>\n",
       "    .dataframe tbody tr th:only-of-type {\n",
       "        vertical-align: middle;\n",
       "    }\n",
       "\n",
       "    .dataframe tbody tr th {\n",
       "        vertical-align: top;\n",
       "    }\n",
       "\n",
       "    .dataframe thead th {\n",
       "        text-align: right;\n",
       "    }\n",
       "</style>\n",
       "<table border=\"1\" class=\"dataframe\">\n",
       "  <thead>\n",
       "    <tr style=\"text-align: right;\">\n",
       "      <th></th>\n",
       "      <th>dice</th>\n",
       "      <th>n</th>\n",
       "    </tr>\n",
       "  </thead>\n",
       "  <tbody>\n",
       "    <tr>\n",
       "      <th>0</th>\n",
       "      <td>1</td>\n",
       "      <td>97</td>\n",
       "    </tr>\n",
       "    <tr>\n",
       "      <th>1</th>\n",
       "      <td>2</td>\n",
       "      <td>98</td>\n",
       "    </tr>\n",
       "    <tr>\n",
       "      <th>2</th>\n",
       "      <td>3</td>\n",
       "      <td>109</td>\n",
       "    </tr>\n",
       "    <tr>\n",
       "      <th>3</th>\n",
       "      <td>4</td>\n",
       "      <td>95</td>\n",
       "    </tr>\n",
       "    <tr>\n",
       "      <th>4</th>\n",
       "      <td>5</td>\n",
       "      <td>97</td>\n",
       "    </tr>\n",
       "    <tr>\n",
       "      <th>5</th>\n",
       "      <td>6</td>\n",
       "      <td>104</td>\n",
       "    </tr>\n",
       "  </tbody>\n",
       "</table>\n",
       "</div>"
      ],
      "text/plain": [
       "   dice    n\n",
       "0     1   97\n",
       "1     2   98\n",
       "2     3  109\n",
       "3     4   95\n",
       "4     5   97\n",
       "5     6  104"
      ]
     },
     "execution_count": 45,
     "metadata": {},
     "output_type": "execute_result"
    }
   ],
   "source": [
    "data = pd.DataFrame({\n",
    "    'dice': [1, 2, 3, 4, 5, 6],\n",
    "    'n': [97, 98, 109, 95, 97, 104],\n",
    "})\n",
    "data"
   ]
  },
  {
   "cell_type": "code",
   "execution_count": 48,
   "metadata": {},
   "outputs": [
    {
     "data": {
      "text/html": [
       "<div>\n",
       "<style scoped>\n",
       "    .dataframe tbody tr th:only-of-type {\n",
       "        vertical-align: middle;\n",
       "    }\n",
       "\n",
       "    .dataframe tbody tr th {\n",
       "        vertical-align: top;\n",
       "    }\n",
       "\n",
       "    .dataframe thead th {\n",
       "        text-align: right;\n",
       "    }\n",
       "</style>\n",
       "<table border=\"1\" class=\"dataframe\">\n",
       "  <thead>\n",
       "    <tr style=\"text-align: right;\">\n",
       "      <th></th>\n",
       "      <th>dice</th>\n",
       "      <th>n</th>\n",
       "      <th>expected</th>\n",
       "    </tr>\n",
       "  </thead>\n",
       "  <tbody>\n",
       "    <tr>\n",
       "      <th>0</th>\n",
       "      <td>1</td>\n",
       "      <td>97</td>\n",
       "      <td>100</td>\n",
       "    </tr>\n",
       "    <tr>\n",
       "      <th>1</th>\n",
       "      <td>2</td>\n",
       "      <td>98</td>\n",
       "      <td>100</td>\n",
       "    </tr>\n",
       "    <tr>\n",
       "      <th>2</th>\n",
       "      <td>3</td>\n",
       "      <td>109</td>\n",
       "      <td>100</td>\n",
       "    </tr>\n",
       "    <tr>\n",
       "      <th>3</th>\n",
       "      <td>4</td>\n",
       "      <td>95</td>\n",
       "      <td>100</td>\n",
       "    </tr>\n",
       "    <tr>\n",
       "      <th>4</th>\n",
       "      <td>5</td>\n",
       "      <td>97</td>\n",
       "      <td>100</td>\n",
       "    </tr>\n",
       "    <tr>\n",
       "      <th>5</th>\n",
       "      <td>6</td>\n",
       "      <td>104</td>\n",
       "      <td>100</td>\n",
       "    </tr>\n",
       "  </tbody>\n",
       "</table>\n",
       "</div>"
      ],
      "text/plain": [
       "   dice    n  expected\n",
       "0     1   97       100\n",
       "1     2   98       100\n",
       "2     3  109       100\n",
       "3     4   95       100\n",
       "4     5   97       100\n",
       "5     6  104       100"
      ]
     },
     "execution_count": 48,
     "metadata": {},
     "output_type": "execute_result"
    }
   ],
   "source": [
    "data['expected'] = pd.Series([sum(data['n']) // len(data['n']) for _ in range(len(data['n']))])\n",
    "data"
   ]
  },
  {
   "cell_type": "code",
   "execution_count": 50,
   "metadata": {},
   "outputs": [
    {
     "name": "stdout",
     "output_type": "stream",
     "text": [
      "testing equality observed and expected distributions\n",
      " chi-square p-value: 0.9198882077437889\n",
      " observed distribution is equal to linear distribution\n"
     ]
    }
   ],
   "source": [
    "# С помощью критерия Хи-квадрат проверить, \n",
    "# является ли полученное распределение равномерным.\n",
    "# Использовать функцию scipy.stats.chisquare()\n",
    "print('testing equality observed and expected distributions')\n",
    "chi2 = sts.chisquare(data['n'], data['expected'])\n",
    "print(f' chi-square p-value: {chi2.pvalue}')\n",
    "if chi2.pvalue > 0.05:\n",
    "    print(' observed distribution is equal to linear distribution')\n",
    "else:\n",
    "    print(' observed distribution is not equal to linear distribution')"
   ]
  },
  {
   "cell_type": "markdown",
   "metadata": {},
   "source": [
    "Наблюдаемое распределение не отличается от теоретического (равномерного)"
   ]
  },
  {
   "cell_type": "markdown",
   "metadata": {},
   "source": [
    "## 15. Распределение Хи-квадрат"
   ]
  },
  {
   "cell_type": "code",
   "execution_count": 52,
   "metadata": {},
   "outputs": [
    {
     "data": {
      "text/html": [
       "<div>\n",
       "<style scoped>\n",
       "    .dataframe tbody tr th:only-of-type {\n",
       "        vertical-align: middle;\n",
       "    }\n",
       "\n",
       "    .dataframe tbody tr th {\n",
       "        vertical-align: top;\n",
       "    }\n",
       "\n",
       "    .dataframe thead th {\n",
       "        text-align: right;\n",
       "    }\n",
       "</style>\n",
       "<table border=\"1\" class=\"dataframe\">\n",
       "  <thead>\n",
       "    <tr style=\"text-align: right;\">\n",
       "      <th></th>\n",
       "      <th>Женат</th>\n",
       "      <th>Гражданский брак</th>\n",
       "      <th>Не состоит в отношениях</th>\n",
       "    </tr>\n",
       "  </thead>\n",
       "  <tbody>\n",
       "    <tr>\n",
       "      <th>Полный рабочий день</th>\n",
       "      <td>89</td>\n",
       "      <td>80</td>\n",
       "      <td>35</td>\n",
       "    </tr>\n",
       "    <tr>\n",
       "      <th>Частичная занятость</th>\n",
       "      <td>17</td>\n",
       "      <td>22</td>\n",
       "      <td>44</td>\n",
       "    </tr>\n",
       "    <tr>\n",
       "      <th>Временно не работает</th>\n",
       "      <td>11</td>\n",
       "      <td>20</td>\n",
       "      <td>35</td>\n",
       "    </tr>\n",
       "    <tr>\n",
       "      <th>На домохозяйстве</th>\n",
       "      <td>43</td>\n",
       "      <td>35</td>\n",
       "      <td>6</td>\n",
       "    </tr>\n",
       "    <tr>\n",
       "      <th>На пенсии</th>\n",
       "      <td>22</td>\n",
       "      <td>6</td>\n",
       "      <td>8</td>\n",
       "    </tr>\n",
       "    <tr>\n",
       "      <th>Учёба</th>\n",
       "      <td>1</td>\n",
       "      <td>4</td>\n",
       "      <td>22</td>\n",
       "    </tr>\n",
       "  </tbody>\n",
       "</table>\n",
       "</div>"
      ],
      "text/plain": [
       "                      Женат  Гражданский брак  Не состоит в отношениях\n",
       "Полный рабочий день      89                80                       35\n",
       "Частичная занятость      17                22                       44\n",
       "Временно не работает     11                20                       35\n",
       "На домохозяйстве         43                35                        6\n",
       "На пенсии                22                 6                        8\n",
       "Учёба                     1                 4                       22"
      ]
     },
     "execution_count": 52,
     "metadata": {},
     "output_type": "execute_result"
    }
   ],
   "source": [
    "# Создать датафрейм, используя следующий код:\n",
    "data = pd.DataFrame(\n",
    "    {\n",
    "        'Женат': [89,17,11,43,22,1],\n",
    "        'Гражданский брак': [80,22,20,35,6,4],\n",
    "        'Не состоит в отношениях': [35,44,35,6,8,22]\n",
    "    }\n",
    ")\n",
    "data.index = [\n",
    "    'Полный рабочий день',\n",
    "    'Частичная занятость',\n",
    "    'Временно не работает',\n",
    "    'На домохозяйстве',\n",
    "    'На пенсии',\n",
    "    'Учёба'\n",
    "]\n",
    "data"
   ]
  },
  {
   "cell_type": "code",
   "execution_count": 56,
   "metadata": {},
   "outputs": [
    {
     "name": "stdout",
     "output_type": "stream",
     "text": [
      "testing influence of a categorical feature on the distribution\n",
      " chi-square p-value: 1.7291616900960234e-21\n",
      " categorical attribute has an influence on the distribution\n"
     ]
    },
    {
     "data": {
      "text/plain": [
       "Chi2ContingencyResult(statistic=122.29654948595365, pvalue=1.7291616900960234e-21, dof=10, expected_freq=array([[74.664, 68.136, 61.2  ],\n",
       "       [30.378, 27.722, 24.9  ],\n",
       "       [24.156, 22.044, 19.8  ],\n",
       "       [30.744, 28.056, 25.2  ],\n",
       "       [13.176, 12.024, 10.8  ],\n",
       "       [ 9.882,  9.018,  8.1  ]]))"
      ]
     },
     "execution_count": 56,
     "metadata": {},
     "output_type": "execute_result"
    }
   ],
   "source": [
    "# С помощью критерия Хи-квадрат проверить, являются ли переменные зависимыми.\n",
    "# Использовать функцию scipy.stats.chi2_contingency().\n",
    "# Влияет ли семейное положение на занятость?\n",
    "print('testing influence of a categorical feature on the distribution')\n",
    "chi2 = sts.chi2_contingency(data)\n",
    "print(f' chi-square p-value: {chi2.pvalue}')\n",
    "if chi2.pvalue < 0.05:\n",
    "    print(' categorical attribute has an influence on the distribution')\n",
    "else:\n",
    "    print(' categorical attribute has not an influence on the distribution')\n",
    "chi2"
   ]
  },
  {
   "cell_type": "markdown",
   "metadata": {},
   "source": [
    "Влияет ли семейное положение на занятость?\n",
    "\n",
    "Семейное положение влияет на занятость"
   ]
  }
 ],
 "metadata": {
  "kernelspec": {
   "display_name": "Python 3",
   "language": "python",
   "name": "python3"
  },
  "language_info": {
   "codemirror_mode": {
    "name": "ipython",
    "version": 3
   },
   "file_extension": ".py",
   "mimetype": "text/x-python",
   "name": "python",
   "nbconvert_exporter": "python",
   "pygments_lexer": "ipython3",
   "version": "3.11.5"
  },
  "orig_nbformat": 4
 },
 "nbformat": 4,
 "nbformat_minor": 2
}
